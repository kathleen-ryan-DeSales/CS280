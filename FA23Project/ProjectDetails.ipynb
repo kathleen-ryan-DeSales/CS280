{
 "cells": [
  {
   "cell_type": "markdown",
   "metadata": {},
   "source": [
    "---\n",
    "\n",
    "## CS 280 Final Project Overview - FA 23\n",
    "\n",
    "Pick a dataset, any dataset…\n",
    "\n",
    "…and tell me a story using visualizations and the techniques we've used this semester.\n",
    "\n",
    "That is your final project in a nutshell. More details below."
   ]
  },
  {
   "cell_type": "markdown",
   "metadata": {},
   "source": [
    "---\n",
    "### TEAMS\n",
    "\n",
    "* Lorenzo, Max F\n",
    "* Max S, Destiny\n",
    "* Erica, Harkiran\n",
    "* Evan, Jon, Matt\n",
    "* Nate, Mo\n",
    "\n",
    "## A. Project Goal\n",
    "\n",
    "The final project for this class will invovle an analysis on a dataset of your team's own choosing. You can choose the data based on your interests or based on work in other courses or research projects. The intent of this project is for you to demonstrate proficiency in the techniques we have covered in this class (and beyond, if you like) and apply them to a novel dataset in a meaningful way.\n",
    "\n",
    "Your main goal is to prove to me that:\n",
    "* you are proficient at asking meaningful questions and answering them with the results of basic data analysis and visualization, \n",
    "* you are proficient in using Python and manipulating dataframes, \n",
    "* you are proficient at creating visualizations with seaborn, \n",
    "* you are able to apply  statistics (simulate to test hypotheses, find confidence intervals, apply regression) and \n",
    "* you are able to tell a cohesive story when you present your results. \n",
    "\n",
    "The project is very open-ended. You should create compelling visualizations of your data in Python and then interpret them. There is no limit on what tools or packages you may incorporate, but you must incorporate packages and techniques we learned in class. \n",
    "\n",
    "* You should expect to incorporate visualizations that we have used in class and at least one that we have not (like violin graphs, heat maps, etc) because with your Python knowledge togther with a google search for examples, you have the ability to accomplish this. \n",
    "\n",
    "* You should also use statistical technniques from class (descriptive statistics, correlations, hypothesis testing, CIs, regression).  Just talk to me about the results you're finding so we can make sure they are legitimate.\n",
    "\n",
    "You do not need to visualize all of the data at once. **A handful of high quality visualizations that tell a compelling story will receive a much higher grade than a large number of poor quality visualizations that are unrelated to each other.**\n",
    "\n",
    "Also pay attention to your final write-up and presentation. Neatness, coherency, grammar, cohesiveness, and clarity will count. \n",
    "\n",
    "You may wish to use Google Colab to make pulling results easy."
   ]
  },
  {
   "cell_type": "markdown",
   "metadata": {},
   "source": [
    "---\n",
    "\n",
    "## B. Dataset Requirements\n",
    "\n",
    "In order for you to have the greatest chance of success with this project it is important that you choose a manageable dataset. This means that the data should be readily accessible and large enough that multiple relationships can be explored. \n",
    "\n",
    "As such, your dataset must have at least 1000 observations (so rows) and 8-12 variables (exceptions can be made but you must speak with me first). The dataset’s variables should include A MIX OF (so 2-3 at least of each kind):\n",
    "\n",
    "* qualitative/categorical variables, \n",
    "* discrete numerical variables, and  \n",
    "* continuous numerical variables. \n",
    "\n",
    "Note:  If one column is just a transform of a previous column (Example:  population with values like 4,000,000 and population in millions with values like 4), then these only count as 1 column, not 2.\n",
    "\n",
    "Ideally, your data set should be in an excel file or a csv file or some type of table that can be converted to these files. If you are using a dataset that comes in a format that we haven’t encountered in class, make sure that you are able to load it into Ptyhon as this can be tricky depending on the source. If you are having trouble ask for help before it is too late.\n",
    "\n",
    "\n",
    "**Note on reusing datasets from class:** Do *not* reuse datasets used in examples, homework assignments, or labs in the class.\n",
    "\n",
    "Below are a list of data repositories that might be of interest to browse. You’re not limited to these resources, and in fact you’re encouraged to venture beyond them. But you might find something interesting there:"
   ]
  },
  {
   "cell_type": "markdown",
   "metadata": {},
   "source": [
    "<ul>\n",
    "<li><a href=\"https://data.gov.uk/\">UK Gov Data</a></li>\n",
    "<li><a href=\"https://www.kaggle.com/datasets\">Kaggle datasets (No Pokemon.  No Spotify.)</a></li>\n",
    "<li><a href=\"http://openintrostat.github.io/openintro/\">OpenIntro datasets</a></li>\n",
    "<li><a href=\"https://github.com/rfordatascience/tidytuesday\">TidyTuesday</a></li>\n",
    "<li><a href=\"https://worlddata.ai/\">World Data AI</a></li>\n",
    "<li><a href=\"https://www.statcrunch.com/datasets/shared\">Stat Crunch</a></li>\n",
    "<li><a href=\"https://github.com/awesomedata/awesome-public-datasets\">Awesome public datasets</a></li>\n",
    "<li><a href=\"https://chronicdata.cdc.gov/Youth-Risk-Behaviors/DASH-Youth-Risk-Behavior-Surveillance-System-YRBSS/q6p7-56au\">Youth Risk Behavior Surveillance System (YRBSS)</a></li>\n",
    "<li><a href=\"https://www.icpsr.umich.edu/icpsrweb/content/ICPSR/fenway.html\">PRISM Data Archive Project</a></li>\n",
    "<li><a href=\"https://dataverse.harvard.edu/\">Harvard Dataverse</a></li>\n",
    "<li>If you know of others, let me know, and we’ll add here…</li>\n",
    "</ul>"
   ]
  },
  {
   "cell_type": "markdown",
   "metadata": {},
   "source": [
    "Finally, some of your professors likely do research in areas that may be of interest to you.  This means that they may have datasets that they would like help analyzing.  If you wish to ask a professor if they would be willing to share a data set with you for this project, then please talk to me first.  **I repeat - do not contact your professors without first talking to me.**  I will reach out them to explain the scope of the project to them and then you may talk to them afterwards.  Note:  It is very likely that your professor may decline giving you data, so you should talk to him/her early.  "
   ]
  },
  {
   "cell_type": "markdown",
   "metadata": {},
   "source": [
    "## C. Deliverables\n",
    "\n",
    "1. Dataset Proposal - due **[Sunday Nov. 19th at 11:59PM]**\n",
    "2. Data Section and Some Initial Visualizations  - due **[Monday Nov. 27th at 11:59PM]**\n",
    "3. Project Update - due **[Monday Dec 4th at 11:59 PM]**\n",
    "1. Final Report - due the night of the Final Exam Period **[Thursday Dec 14th at 11:59PM]**\n",
    "1. Presentation - during the Final Exam Period - Slides due at the start of class - **[Thursday Dec 14th at 12:15]**."
   ]
  },
  {
   "cell_type": "markdown",
   "metadata": {},
   "source": [
    "---\n",
    "\n",
    "## D. Dataset Proposal\n",
    "\n",
    "For the first deliverable, you will not give me a notebook file.  Instead, you will submit a word document or a pdf with the following via BB:\n",
    "\n",
    "* A link to a website where you got the data you wish to explore.  \n",
    "    * This website should be legit and should explain how the data was collected. \n",
    "    * There must be documentation on what the columns mean.\n",
    "    * FYI: The link should be to the site where I could download the data myself, if I wanted to.  \n",
    "* A github link to the dataset - SO you must upload the data to your or one of your teammate's github account.\n",
    "    * If you can't figure out how to download it, then ask for help. Or possibly switch to a different data set idea if it is that hard.\n",
    "* An **overarching question** to explore with this data set and 5 **mature** questions you think you can ask/answer via this data set.  \n",
    "\n",
    "There should be a main/overarching research question that you are trying to answer.  Here are some examples from last year.  Notice these questions are open-ended and cannot be answered with just a few lines of code.  \n",
    "* Did excitement for games grow after the NHL changed its rules in 2016?\n",
    "* What variables relate to higher graduation rates among private colleges?\n",
    "* Which variables contribute to frequent rentals in Hawaii Air BnB's?\n",
    "* Are the salaries of female CEOs on par with those of their male counterparts in the USA?\n",
    "\n",
    "Then you must include at least 5 **mature** questions involving multiple variables (the features in the columns) from your data that could help you assess the answer to your question.  These questions should help you identify patterns and relationships amongst variables in the data. Here are some examples:\n",
    "* Did team A perform better than team B in all factors, or just points scored?\n",
    "* Did the number of points scored before/after the 2016 rule changes increase/decrease?\n",
    "* Does the length of the Air BnB rental increase as price decreases?\n",
    "* Do coastal Air Bnb's in Hawaii cost more than inland rentals?\n",
    "* Do the babies born of non-smoking mothers weigh more than those born of smoking mothers?\n",
    "\n",
    "<mark>**NOTE:** At least two of your questions must compare **2 or more groups/categories** within your data set, like the 2 highlighted above.  These comparison questions must appear as **BOLDED** in your list.</mark>\n",
    "\n",
    "Here are examples of **non-mature** questions.  Yes, you may have to ask/answer these questions while performing your actual analysis, but they don't show relationships between variables and can be answered with just one line of code.\n",
    "* What was the total income made by company A last year?\n",
    "* What categories were possible in column XXX?"
   ]
  },
  {
   "cell_type": "markdown",
   "metadata": {},
   "source": [
    "### Dataset Proposal Grading Schema\n",
    "\n",
    "The grading scheme for the project proposal is as follows. </p>"
   ]
  },
  {
   "cell_type": "markdown",
   "metadata": {},
   "source": [
    "<table style=\"width:99%;\">\n",
    "<colgroup>\n",
    "<col width=\"70%\" />\n",
    "<col width=\"30%\" />\n",
    "</colgroup>\n",
    "<thead>\n",
    "<tr class=\"header\">\n",
    "<th>Total*</th>\n",
    "<th>25 pts</th>\n",
    "</tr>\n",
    "</thead>\n",
    "<tbody>\n",
    "<tr class=\"odd\">\n",
    "<td>Meets Data Requirements</td>\n",
    "<td>5 pts</td>\n",
    "</tr>\n",
    "<tr class=\"even\">\n",
    "<td>Website Legit with clear details about the data</td>\n",
    "<td>5 pts</td>\n",
    "</tr>\n",
    "<tr class=\"odd\">\n",
    "<td>Maturity of Questions/Topic</td>\n",
    "<td>5 pts</td>\n",
    "</tr>\n",
    "</tbody>\n",
    "</table>"
   ]
  }
 ],
 "metadata": {
  "kernelspec": {
   "display_name": "Python 3 (ipykernel)",
   "language": "python",
   "name": "python3"
  },
  "language_info": {
   "codemirror_mode": {
    "name": "ipython",
    "version": 3
   },
   "file_extension": ".py",
   "mimetype": "text/x-python",
   "name": "python",
   "nbconvert_exporter": "python",
   "pygments_lexer": "ipython3",
   "version": "3.9.12"
  }
 },
 "nbformat": 4,
 "nbformat_minor": 4
}
