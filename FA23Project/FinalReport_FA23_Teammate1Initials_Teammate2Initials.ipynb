{
 "cells": [
  {
   "cell_type": "markdown",
   "metadata": {},
   "source": [
    "# NOTE TO STUDENTS\n",
    "\n",
    "Delete this code cell at the end.  \n",
    "\n",
    "* EVERY code cell must have a comment in it at the top explaining what is in the code cell.\n",
    "\n",
    "* There should be normal coding comments within the code cell too, especially if there is anything unexpected or not obvious happening in the code.\n",
    "\n",
    "* NOOOOOOOOOO code cell should include any interpretations of the data.  Those remarks should be in markdown cells  directly before or after the code cells.\n",
    "\n",
    "**Please delete the bolded comments from Dr. R before submission.**"
   ]
  },
  {
   "cell_type": "code",
   "execution_count": 3,
   "metadata": {},
   "outputs": [],
   "source": [
    "# ALL imports here "
   ]
  },
  {
   "cell_type": "markdown",
   "metadata": {},
   "source": [
    "---\n",
    "#### CS 280 Final Project - FA23\n",
    "---\n",
    "\n",
    "# Title (Give a title, based on your topic. Also be sure to rename the file with your initials.)"
   ]
  },
  {
   "cell_type": "markdown",
   "metadata": {},
   "source": [
    "### By: Your Names \n"
   ]
  },
  {
   "cell_type": "markdown",
   "metadata": {},
   "source": [
    "---\n",
    "\n",
    "## 1. Introduction"
   ]
  },
  {
   "cell_type": "markdown",
   "metadata": {},
   "source": [
    "For this project, our group explored... (This section will be finished at a later date and can be skipped at this time.)"
   ]
  },
  {
   "cell_type": "markdown",
   "metadata": {},
   "source": [
    "---\n",
    "\n",
    "## 2. Data"
   ]
  },
  {
   "cell_type": "markdown",
   "metadata": {},
   "source": [
    "A direct link to the data can be found at the following website. \n",
    " * http://insideairbnb.com/get-the-data.html\n",
    " \n",
    "**Dr. Note to students - Fill in the details of how/when the data was obtained and delete this bolded comment. Example: According the website, the data was collected via \"telephone interviews conducted February 5-8, 2015 among a national sample of 1,003 adults, 18 years of age or older, living in the continental United States.\"**"
   ]
  },
  {
   "cell_type": "code",
   "execution_count": 4,
   "metadata": {},
   "outputs": [],
   "source": [
    "#importing the data from github"
   ]
  },
  {
   "cell_type": "markdown",
   "metadata": {},
   "source": [
    "### 2.1 Summary of Variables within the XXX Table"
   ]
  },
  {
   "cell_type": "markdown",
   "metadata": {},
   "source": [
    "**Dr. Note to students - Fill in all XXX's for your project and put in your schema.  Then delete this comment.**"
   ]
  },
  {
   "cell_type": "markdown",
   "metadata": {},
   "source": [
    "The XXX table has XXX columns/variables and XXX rows.   We now explain each variable, giving their units, indicating their types, and providing some descriptive statistics..\n",
    "\n",
    "**Dr. Note to students:  List your variables in a contiguous list here. Categorical variables should look like this:**\n",
    "\n",
    "* **column_name** – description \n",
    "    * Number of missing values:\n",
    "    * Units: if necessary; delete otherwise.\n",
    "    * Contains XXX distinct values:\n",
    "        * List the values.  If there are many, just list some to explain.  If there are only 10 or so, list them all and give a description of what they mean.  \n",
    "    * Any other important facts, should you discover them during your analysis.\n",
    "\n",
    "**List your variables in a contiguous list here. Continuous variables should look like this:**\n",
    "\n",
    "* **column_name** – description\n",
    "    * Number of missing values:\n",
    "    * Units: if necessary; delete otherwise.\n",
    "    * max value: XXX\n",
    "    * min value: XXX\n",
    "    * average value: \n",
    "    * Any other important facts, should you discover them during your analysis.\n",
    "\n",
    "**Quantitative Discrete Variables should look like one of the above entries, depending on how many values the variable can take on.  If there are just a handful of values, such variables should mimic a categorical entry.  Otherwise, the variables should mimic the continuous examples.**"
   ]
  },
  {
   "cell_type": "markdown",
   "metadata": {},
   "source": [
    "### 2.2 Code used to Summarize Variables"
   ]
  },
  {
   "cell_type": "markdown",
   "metadata": {},
   "source": [
    "In this section we include the code used to describe the variables in the previous section.  \n",
    "\n",
    "**Dr. Note to students:  Organize this section.**"
   ]
  },
  {
   "cell_type": "code",
   "execution_count": null,
   "metadata": {},
   "outputs": [],
   "source": [
    "#Descriptive Stats for variable XX"
   ]
  },
  {
   "cell_type": "markdown",
   "metadata": {},
   "source": [
    "---\n",
    "\n",
    "## Playground"
   ]
  },
  {
   "cell_type": "code",
   "execution_count": null,
   "metadata": {},
   "outputs": [],
   "source": [
    "# Vis 1"
   ]
  },
  {
   "cell_type": "markdown",
   "metadata": {},
   "source": [
    "What you learned "
   ]
  },
  {
   "cell_type": "code",
   "execution_count": null,
   "metadata": {},
   "outputs": [],
   "source": [
    "# Vis 2"
   ]
  },
  {
   "cell_type": "markdown",
   "metadata": {},
   "source": [
    "What you learned "
   ]
  },
  {
   "cell_type": "code",
   "execution_count": null,
   "metadata": {},
   "outputs": [],
   "source": [
    "# Vis 3"
   ]
  },
  {
   "cell_type": "markdown",
   "metadata": {},
   "source": [
    "What you learned "
   ]
  },
  {
   "cell_type": "markdown",
   "metadata": {},
   "source": [
    "---\n",
    "## 3. Results"
   ]
  },
  {
   "cell_type": "markdown",
   "metadata": {},
   "source": [
    "You're welcome to organize your final file as needed.  You will certainly need a results section and a conclusion section."
   ]
  },
  {
   "cell_type": "markdown",
   "metadata": {},
   "source": [
    "---\n",
    "\n",
    "## 4. Conclusion"
   ]
  }
 ],
 "metadata": {
  "kernelspec": {
   "display_name": "Python 3 (ipykernel)",
   "language": "python",
   "name": "python3"
  },
  "language_info": {
   "codemirror_mode": {
    "name": "ipython",
    "version": 3
   },
   "file_extension": ".py",
   "mimetype": "text/x-python",
   "name": "python",
   "nbconvert_exporter": "python",
   "pygments_lexer": "ipython3",
   "version": "3.9.12"
  }
 },
 "nbformat": 4,
 "nbformat_minor": 4
}
